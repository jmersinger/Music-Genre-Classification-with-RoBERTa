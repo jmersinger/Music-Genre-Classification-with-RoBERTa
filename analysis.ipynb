{
 "cells": [
  {
   "cell_type": "code",
   "execution_count": null,
   "id": "175073ea-4071-4aaf-a332-e354846b474c",
   "metadata": {},
   "outputs": [],
   "source": [
    "from data.cleaning import download_and_clean\n",
    "\n",
    "artists, tracks = download_and_clean()"
   ]
  },
  {
   "cell_type": "code",
   "execution_count": null,
   "id": "35138191",
   "metadata": {},
   "outputs": [],
   "source": [
    "from itertools import chain\n",
    "from collections import Counter\n",
    "\n",
    "print(\"Total number of tracks:\", len(tracks[\"genres\"]))\n",
    "\n",
    "genre_tracks = tracks[\"genres\"]\n",
    "\n",
    "c = Counter(chain.from_iterable(genre_tracks))\n",
    "\n",
    "tracksCropped = {k:v for k, v in c.items() if v >= 100}\n",
    "print(\"Total number of genres:\", len(tracksCropped))\n",
    "\n",
    "print(f\"Average count of genres in a track: {tracks['genres'].apply(len).mean()}\")\n",
    "\n",
    "c = c.most_common(30)\n",
    "print(\"Top genres:\", c)\n"
   ]
  },
  {
   "cell_type": "code",
   "execution_count": null,
   "id": "1bce032f",
   "metadata": {},
   "outputs": [],
   "source": [
    "import matplotlib.pyplot as plt\n",
    "\n",
    "labels = []\n",
    "sizes = []\n",
    "\n",
    "for x, y in c:\n",
    "    labels.append(x)\n",
    "    sizes.append(y)\n",
    "\n",
    "plt.barh(labels, sizes)\n",
    "plt.title(\"Top 30 Genres\")\n",
    "plt.xlabel(\"Frequency across tracks\")\n",
    "plt.ylabel(\"Genres\")\n",
    "\n",
    "plt.show()"
   ]
  }
 ],
 "metadata": {
  "kernelspec": {
   "display_name": ".venv",
   "language": "python",
   "name": "python3"
  },
  "language_info": {
   "codemirror_mode": {
    "name": "ipython",
    "version": 3
   },
   "file_extension": ".py",
   "mimetype": "text/x-python",
   "name": "python",
   "nbconvert_exporter": "python",
   "pygments_lexer": "ipython3",
   "version": "3.12.0"
  }
 },
 "nbformat": 4,
 "nbformat_minor": 5
}
